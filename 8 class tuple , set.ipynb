{
 "cells": [
  {
   "cell_type": "code",
   "execution_count": 1,
   "id": "c882c64a",
   "metadata": {},
   "outputs": [],
   "source": [
    "t=(1,2,3,4,5)"
   ]
  },
  {
   "cell_type": "code",
   "execution_count": 2,
   "id": "3678f437",
   "metadata": {},
   "outputs": [
    {
     "data": {
      "text/plain": [
       "tuple"
      ]
     },
     "execution_count": 2,
     "metadata": {},
     "output_type": "execute_result"
    }
   ],
   "source": [
    "type(t)"
   ]
  },
  {
   "cell_type": "code",
   "execution_count": 3,
   "id": "021474e6",
   "metadata": {},
   "outputs": [],
   "source": [
    "t1=(\"python\",123,45+7j,546.67,True)"
   ]
  },
  {
   "cell_type": "code",
   "execution_count": 4,
   "id": "413413d4",
   "metadata": {},
   "outputs": [
    {
     "data": {
      "text/plain": [
       "tuple"
      ]
     },
     "execution_count": 4,
     "metadata": {},
     "output_type": "execute_result"
    }
   ],
   "source": [
    "type(t1)"
   ]
  },
  {
   "cell_type": "code",
   "execution_count": 5,
   "id": "1e6bb681",
   "metadata": {},
   "outputs": [],
   "source": [
    "l=[\"python\",123,45+7j,546.67,True]"
   ]
  },
  {
   "cell_type": "code",
   "execution_count": 6,
   "id": "061502ac",
   "metadata": {},
   "outputs": [
    {
     "data": {
      "text/plain": [
       "list"
      ]
     },
     "execution_count": 6,
     "metadata": {},
     "output_type": "execute_result"
    }
   ],
   "source": [
    "type(l)"
   ]
  },
  {
   "cell_type": "code",
   "execution_count": 7,
   "id": "72fc73b6",
   "metadata": {},
   "outputs": [
    {
     "data": {
      "text/plain": [
       "tuple"
      ]
     },
     "execution_count": 7,
     "metadata": {},
     "output_type": "execute_result"
    }
   ],
   "source": [
    "t2=()\n",
    "type(t2)"
   ]
  },
  {
   "cell_type": "code",
   "execution_count": 8,
   "id": "537bd8b9",
   "metadata": {},
   "outputs": [
    {
     "data": {
      "text/plain": [
       "('python', 123, (45+7j), 546.67, True)"
      ]
     },
     "execution_count": 8,
     "metadata": {},
     "output_type": "execute_result"
    }
   ],
   "source": [
    "t1"
   ]
  },
  {
   "cell_type": "code",
   "execution_count": 9,
   "id": "8404f48c",
   "metadata": {},
   "outputs": [
    {
     "data": {
      "text/plain": [
       "['python', 123, (45+7j), 546.67, True]"
      ]
     },
     "execution_count": 9,
     "metadata": {},
     "output_type": "execute_result"
    }
   ],
   "source": [
    "l"
   ]
  },
  {
   "cell_type": "code",
   "execution_count": 10,
   "id": "9b68dba1",
   "metadata": {},
   "outputs": [
    {
     "data": {
      "text/plain": [
       "['python', 123, (45+7j)]"
      ]
     },
     "execution_count": 10,
     "metadata": {},
     "output_type": "execute_result"
    }
   ],
   "source": [
    "l[0:3]"
   ]
  },
  {
   "cell_type": "code",
   "execution_count": 11,
   "id": "519f8f12",
   "metadata": {},
   "outputs": [
    {
     "data": {
      "text/plain": [
       "('python', 123, (45+7j))"
      ]
     },
     "execution_count": 11,
     "metadata": {},
     "output_type": "execute_result"
    }
   ],
   "source": [
    "t1[0:3]"
   ]
  },
  {
   "cell_type": "markdown",
   "id": "2a02669f",
   "metadata": {},
   "source": [
    "# Reverse oder "
   ]
  },
  {
   "cell_type": "code",
   "execution_count": 12,
   "id": "d7fc07d3",
   "metadata": {},
   "outputs": [
    {
     "data": {
      "text/plain": [
       "[True, 546.67, (45+7j), 123, 'python']"
      ]
     },
     "execution_count": 12,
     "metadata": {},
     "output_type": "execute_result"
    }
   ],
   "source": [
    "l[::-1]"
   ]
  },
  {
   "cell_type": "code",
   "execution_count": 14,
   "id": "cdde5d1f",
   "metadata": {},
   "outputs": [
    {
     "data": {
      "text/plain": [
       "(1, 2, 3, 4, 5)"
      ]
     },
     "execution_count": 14,
     "metadata": {},
     "output_type": "execute_result"
    }
   ],
   "source": [
    "t"
   ]
  },
  {
   "cell_type": "code",
   "execution_count": 13,
   "id": "0c31453d",
   "metadata": {
    "scrolled": true
   },
   "outputs": [
    {
     "data": {
      "text/plain": [
       "(5, 4, 3, 2, 1)"
      ]
     },
     "execution_count": 13,
     "metadata": {},
     "output_type": "execute_result"
    }
   ],
   "source": [
    "t[::-1]"
   ]
  },
  {
   "cell_type": "markdown",
   "id": "bba1d931",
   "metadata": {},
   "source": [
    "# Access element from last index"
   ]
  },
  {
   "cell_type": "code",
   "execution_count": 15,
   "id": "5e2314cc",
   "metadata": {},
   "outputs": [
    {
     "data": {
      "text/plain": [
       "['python', 123, (45+7j), 546.67, True]"
      ]
     },
     "execution_count": 15,
     "metadata": {},
     "output_type": "execute_result"
    }
   ],
   "source": [
    "l"
   ]
  },
  {
   "cell_type": "code",
   "execution_count": 16,
   "id": "e6048ea5",
   "metadata": {},
   "outputs": [
    {
     "data": {
      "text/plain": [
       "True"
      ]
     },
     "execution_count": 16,
     "metadata": {},
     "output_type": "execute_result"
    }
   ],
   "source": [
    "l[-1]"
   ]
  },
  {
   "cell_type": "code",
   "execution_count": 17,
   "id": "c448ae7b",
   "metadata": {},
   "outputs": [
    {
     "data": {
      "text/plain": [
       "('python', 123, (45+7j), 546.67, True)"
      ]
     },
     "execution_count": 17,
     "metadata": {},
     "output_type": "execute_result"
    }
   ],
   "source": [
    "t1"
   ]
  },
  {
   "cell_type": "code",
   "execution_count": 19,
   "id": "73e62ece",
   "metadata": {
    "scrolled": true
   },
   "outputs": [
    {
     "data": {
      "text/plain": [
       "True"
      ]
     },
     "execution_count": 19,
     "metadata": {},
     "output_type": "execute_result"
    }
   ],
   "source": [
    "t1[-1]"
   ]
  },
  {
   "cell_type": "code",
   "execution_count": 20,
   "id": "28dfe543",
   "metadata": {},
   "outputs": [
    {
     "data": {
      "text/plain": [
       "('python', 123, (45+7j), 546.67, True)"
      ]
     },
     "execution_count": 20,
     "metadata": {},
     "output_type": "execute_result"
    }
   ],
   "source": [
    "t1"
   ]
  },
  {
   "cell_type": "code",
   "execution_count": 21,
   "id": "6ee4338f",
   "metadata": {},
   "outputs": [
    {
     "data": {
      "text/plain": [
       "('python', (45+7j), True)"
      ]
     },
     "execution_count": 21,
     "metadata": {},
     "output_type": "execute_result"
    }
   ],
   "source": [
    "t1[0::2]"
   ]
  },
  {
   "cell_type": "markdown",
   "id": "9c68501f",
   "metadata": {},
   "source": [
    "# Item reassignment"
   ]
  },
  {
   "cell_type": "code",
   "execution_count": null,
   "id": "6354f26a",
   "metadata": {},
   "outputs": [],
   "source": [
    "#   lists are mutable "
   ]
  },
  {
   "cell_type": "code",
   "execution_count": 22,
   "id": "1482a4b6",
   "metadata": {},
   "outputs": [],
   "source": [
    "l1=[4,5,6,7]"
   ]
  },
  {
   "cell_type": "code",
   "execution_count": 23,
   "id": "5b29d020",
   "metadata": {},
   "outputs": [
    {
     "data": {
      "text/plain": [
       "['python', 123, (45+7j), 546.67, True]"
      ]
     },
     "execution_count": 23,
     "metadata": {},
     "output_type": "execute_result"
    }
   ],
   "source": [
    "l"
   ]
  },
  {
   "cell_type": "code",
   "execution_count": 24,
   "id": "ed124aff",
   "metadata": {},
   "outputs": [
    {
     "data": {
      "text/plain": [
       "'python'"
      ]
     },
     "execution_count": 24,
     "metadata": {},
     "output_type": "execute_result"
    }
   ],
   "source": [
    "l[0]"
   ]
  },
  {
   "cell_type": "code",
   "execution_count": 25,
   "id": "f40888f4",
   "metadata": {},
   "outputs": [],
   "source": [
    "l[0]=\"java\""
   ]
  },
  {
   "cell_type": "code",
   "execution_count": 26,
   "id": "1a15675c",
   "metadata": {},
   "outputs": [
    {
     "data": {
      "text/plain": [
       "['java', 123, (45+7j), 546.67, True]"
      ]
     },
     "execution_count": 26,
     "metadata": {},
     "output_type": "execute_result"
    }
   ],
   "source": [
    "l"
   ]
  },
  {
   "cell_type": "code",
   "execution_count": null,
   "id": "bb35de7b",
   "metadata": {},
   "outputs": [],
   "source": [
    "# tuples are immutable "
   ]
  },
  {
   "cell_type": "code",
   "execution_count": 27,
   "id": "b437129f",
   "metadata": {},
   "outputs": [
    {
     "data": {
      "text/plain": [
       "(1, 2, 3, 4, 5)"
      ]
     },
     "execution_count": 27,
     "metadata": {},
     "output_type": "execute_result"
    }
   ],
   "source": [
    "t"
   ]
  },
  {
   "cell_type": "code",
   "execution_count": 28,
   "id": "5024a663",
   "metadata": {},
   "outputs": [
    {
     "ename": "TypeError",
     "evalue": "'tuple' object does not support item assignment",
     "output_type": "error",
     "traceback": [
      "\u001b[1;31m---------------------------------------------------------------------------\u001b[0m",
      "\u001b[1;31mTypeError\u001b[0m                                 Traceback (most recent call last)",
      "\u001b[1;32m~\\AppData\\Local\\Temp\\ipykernel_16416\\2890595960.py\u001b[0m in \u001b[0;36m<module>\u001b[1;34m\u001b[0m\n\u001b[1;32m----> 1\u001b[1;33m \u001b[0mt\u001b[0m\u001b[1;33m[\u001b[0m\u001b[1;36m0\u001b[0m\u001b[1;33m]\u001b[0m\u001b[1;33m=\u001b[0m\u001b[1;36m6\u001b[0m\u001b[1;33m\u001b[0m\u001b[1;33m\u001b[0m\u001b[0m\n\u001b[0m",
      "\u001b[1;31mTypeError\u001b[0m: 'tuple' object does not support item assignment"
     ]
    }
   ],
   "source": [
    "t[0]=6\n",
    "\n",
    "\n",
    "# tuples are immutbale "
   ]
  },
  {
   "cell_type": "code",
   "execution_count": 29,
   "id": "0de7d0a9",
   "metadata": {},
   "outputs": [
    {
     "ename": "TypeError",
     "evalue": "'str' object does not support item assignment",
     "output_type": "error",
     "traceback": [
      "\u001b[1;31m---------------------------------------------------------------------------\u001b[0m",
      "\u001b[1;31mTypeError\u001b[0m                                 Traceback (most recent call last)",
      "\u001b[1;32m~\\AppData\\Local\\Temp\\ipykernel_16416\\3276005548.py\u001b[0m in \u001b[0;36m<module>\u001b[1;34m\u001b[0m\n\u001b[0;32m      1\u001b[0m \u001b[0ms\u001b[0m\u001b[1;33m=\u001b[0m\u001b[1;34m\"mlrt\"\u001b[0m\u001b[1;33m\u001b[0m\u001b[1;33m\u001b[0m\u001b[0m\n\u001b[1;32m----> 2\u001b[1;33m \u001b[0ms\u001b[0m\u001b[1;33m[\u001b[0m\u001b[1;36m0\u001b[0m\u001b[1;33m]\u001b[0m\u001b[1;33m=\u001b[0m\u001b[1;34m\"n\"\u001b[0m\u001b[1;33m\u001b[0m\u001b[1;33m\u001b[0m\u001b[0m\n\u001b[0m",
      "\u001b[1;31mTypeError\u001b[0m: 'str' object does not support item assignment"
     ]
    }
   ],
   "source": [
    "s=\"mlrt\"\n",
    "s[0]=\"n\"\n",
    "\n",
    "\n",
    "# strings are immutable "
   ]
  },
  {
   "cell_type": "markdown",
   "id": "02efc0d0",
   "metadata": {},
   "source": [
    "# concatenation "
   ]
  },
  {
   "cell_type": "code",
   "execution_count": 30,
   "id": "97f8cdf3",
   "metadata": {},
   "outputs": [
    {
     "data": {
      "text/plain": [
       "['java', 123, (45+7j), 546.67, True, 4, 5, 6, 7]"
      ]
     },
     "execution_count": 30,
     "metadata": {},
     "output_type": "execute_result"
    }
   ],
   "source": [
    "l+l1"
   ]
  },
  {
   "cell_type": "code",
   "execution_count": 31,
   "id": "e031b382",
   "metadata": {},
   "outputs": [
    {
     "data": {
      "text/plain": [
       "(1, 2, 3, 4, 5, 'python', 123, (45+7j), 546.67, True)"
      ]
     },
     "execution_count": 31,
     "metadata": {},
     "output_type": "execute_result"
    }
   ],
   "source": [
    "t+t1"
   ]
  },
  {
   "cell_type": "markdown",
   "id": "6261ee4f",
   "metadata": {},
   "source": [
    "# Inbuilt functions between list and tuple "
   ]
  },
  {
   "cell_type": "code",
   "execution_count": 33,
   "id": "89a06470",
   "metadata": {},
   "outputs": [
    {
     "data": {
      "text/plain": [
       "('python', 123, (45+7j), 546.67, True)"
      ]
     },
     "execution_count": 33,
     "metadata": {},
     "output_type": "execute_result"
    }
   ],
   "source": [
    "t1\n",
    "\n",
    "\n",
    "\n"
   ]
  },
  {
   "cell_type": "code",
   "execution_count": 34,
   "id": "34000720",
   "metadata": {},
   "outputs": [
    {
     "data": {
      "text/plain": [
       "1"
      ]
     },
     "execution_count": 34,
     "metadata": {},
     "output_type": "execute_result"
    }
   ],
   "source": [
    "t1.count('python')"
   ]
  },
  {
   "cell_type": "code",
   "execution_count": 35,
   "id": "aa3876df",
   "metadata": {},
   "outputs": [
    {
     "data": {
      "text/plain": [
       "1"
      ]
     },
     "execution_count": 35,
     "metadata": {},
     "output_type": "execute_result"
    }
   ],
   "source": [
    "t1.count(123)"
   ]
  },
  {
   "cell_type": "code",
   "execution_count": 36,
   "id": "084051a9",
   "metadata": {},
   "outputs": [
    {
     "data": {
      "text/plain": [
       "0"
      ]
     },
     "execution_count": 36,
     "metadata": {},
     "output_type": "execute_result"
    }
   ],
   "source": [
    "t1.count('abc')"
   ]
  },
  {
   "cell_type": "code",
   "execution_count": 37,
   "id": "5da1ce5b",
   "metadata": {},
   "outputs": [
    {
     "data": {
      "text/plain": [
       "0"
      ]
     },
     "execution_count": 37,
     "metadata": {},
     "output_type": "execute_result"
    }
   ],
   "source": [
    "t1.index(\"python\")"
   ]
  },
  {
   "cell_type": "code",
   "execution_count": 38,
   "id": "7f4a8f80",
   "metadata": {},
   "outputs": [
    {
     "data": {
      "text/plain": [
       "4"
      ]
     },
     "execution_count": 38,
     "metadata": {},
     "output_type": "execute_result"
    }
   ],
   "source": [
    "t1.index(True)"
   ]
  },
  {
   "cell_type": "code",
   "execution_count": 39,
   "id": "7c158588",
   "metadata": {},
   "outputs": [],
   "source": [
    "t=(45,54,67,78,89,(4,5,6),(\"mlrt\"))"
   ]
  },
  {
   "cell_type": "code",
   "execution_count": 40,
   "id": "7d6007e8",
   "metadata": {},
   "outputs": [
    {
     "data": {
      "text/plain": [
       "(45, 54, 67, 78, 89, (4, 5, 6), 'mlrt')"
      ]
     },
     "execution_count": 40,
     "metadata": {},
     "output_type": "execute_result"
    }
   ],
   "source": [
    "t"
   ]
  },
  {
   "cell_type": "code",
   "execution_count": 41,
   "id": "3e50b650",
   "metadata": {},
   "outputs": [],
   "source": [
    "t1=([1,2,3,4,5,6],\"mlrt\",123456,\"abc\")"
   ]
  },
  {
   "cell_type": "code",
   "execution_count": 42,
   "id": "c7c729da",
   "metadata": {},
   "outputs": [
    {
     "data": {
      "text/plain": [
       "([1, 2, 3, 4, 5, 6], 'mlrt', 123456, 'abc')"
      ]
     },
     "execution_count": 42,
     "metadata": {},
     "output_type": "execute_result"
    }
   ],
   "source": [
    "t1"
   ]
  },
  {
   "cell_type": "code",
   "execution_count": 43,
   "id": "d25e3aab",
   "metadata": {},
   "outputs": [
    {
     "data": {
      "text/plain": [
       "[1, 2, 3, 4, 5, 6]"
      ]
     },
     "execution_count": 43,
     "metadata": {},
     "output_type": "execute_result"
    }
   ],
   "source": [
    "t1[0]"
   ]
  },
  {
   "cell_type": "code",
   "execution_count": 44,
   "id": "6114029a",
   "metadata": {},
   "outputs": [],
   "source": [
    "t1[0][3]=8"
   ]
  },
  {
   "cell_type": "code",
   "execution_count": 45,
   "id": "26aa7ff1",
   "metadata": {},
   "outputs": [
    {
     "data": {
      "text/plain": [
       "([1, 2, 3, 8, 5, 6], 'mlrt', 123456, 'abc')"
      ]
     },
     "execution_count": 45,
     "metadata": {},
     "output_type": "execute_result"
    }
   ],
   "source": [
    "t1"
   ]
  },
  {
   "cell_type": "code",
   "execution_count": 46,
   "id": "2b67c18a",
   "metadata": {},
   "outputs": [
    {
     "ename": "TypeError",
     "evalue": "'tuple' object does not support item assignment",
     "output_type": "error",
     "traceback": [
      "\u001b[1;31m---------------------------------------------------------------------------\u001b[0m",
      "\u001b[1;31mTypeError\u001b[0m                                 Traceback (most recent call last)",
      "\u001b[1;32m~\\AppData\\Local\\Temp\\ipykernel_16416\\2571387928.py\u001b[0m in \u001b[0;36m<module>\u001b[1;34m\u001b[0m\n\u001b[1;32m----> 1\u001b[1;33m \u001b[0mt1\u001b[0m\u001b[1;33m[\u001b[0m\u001b[1;36m0\u001b[0m\u001b[1;33m]\u001b[0m\u001b[1;33m=\u001b[0m\u001b[1;34m\"python\"\u001b[0m\u001b[1;33m\u001b[0m\u001b[1;33m\u001b[0m\u001b[0m\n\u001b[0m",
      "\u001b[1;31mTypeError\u001b[0m: 'tuple' object does not support item assignment"
     ]
    }
   ],
   "source": [
    "t1[0]=\"python\""
   ]
  },
  {
   "cell_type": "markdown",
   "id": "69fb2c68",
   "metadata": {},
   "source": [
    "# conversion from tuple to list  vice versa "
   ]
  },
  {
   "cell_type": "code",
   "execution_count": 47,
   "id": "3b123bf8",
   "metadata": {},
   "outputs": [
    {
     "data": {
      "text/plain": [
       "[53, 45, 56, 67, 13, 45]"
      ]
     },
     "execution_count": 47,
     "metadata": {},
     "output_type": "execute_result"
    }
   ],
   "source": [
    "t1=(53,45,56,67,13,45)\n",
    "list(t1)\n",
    "\n"
   ]
  },
  {
   "cell_type": "code",
   "execution_count": 48,
   "id": "5395e2c2",
   "metadata": {},
   "outputs": [],
   "source": [
    "l=list(t1)"
   ]
  },
  {
   "cell_type": "code",
   "execution_count": 49,
   "id": "787f192e",
   "metadata": {},
   "outputs": [
    {
     "data": {
      "text/plain": [
       "[53, 45, 56, 67, 13, 45]"
      ]
     },
     "execution_count": 49,
     "metadata": {},
     "output_type": "execute_result"
    }
   ],
   "source": [
    "l"
   ]
  },
  {
   "cell_type": "code",
   "execution_count": 50,
   "id": "111ae83b",
   "metadata": {},
   "outputs": [
    {
     "data": {
      "text/plain": [
       "(53, 45, 56, 67, 13, 45)"
      ]
     },
     "execution_count": 50,
     "metadata": {},
     "output_type": "execute_result"
    }
   ],
   "source": [
    "tuple(l)"
   ]
  },
  {
   "cell_type": "markdown",
   "id": "afdc38e1",
   "metadata": {},
   "source": [
    "# set"
   ]
  },
  {
   "cell_type": "code",
   "execution_count": 51,
   "id": "0b722808",
   "metadata": {},
   "outputs": [],
   "source": [
    "l=[1,2,3,4,4,4,4,4,4,4,4,4,4,4,4,4,5,5555,55,5,5,5,5,56,7,8,9,1,2,3,4,5,6]"
   ]
  },
  {
   "cell_type": "code",
   "execution_count": 52,
   "id": "1df06816",
   "metadata": {},
   "outputs": [
    {
     "data": {
      "text/plain": [
       "dict"
      ]
     },
     "execution_count": 52,
     "metadata": {},
     "output_type": "execute_result"
    }
   ],
   "source": [
    "s={}\n",
    "\n",
    "type(s)"
   ]
  },
  {
   "cell_type": "code",
   "execution_count": 53,
   "id": "e7523067",
   "metadata": {},
   "outputs": [],
   "source": [
    "s={1,2,3,4,5,6}"
   ]
  },
  {
   "cell_type": "code",
   "execution_count": 55,
   "id": "1568d794",
   "metadata": {},
   "outputs": [
    {
     "data": {
      "text/plain": [
       "set"
      ]
     },
     "execution_count": 55,
     "metadata": {},
     "output_type": "execute_result"
    }
   ],
   "source": [
    "type(s)"
   ]
  },
  {
   "cell_type": "code",
   "execution_count": 56,
   "id": "5eee21d6",
   "metadata": {},
   "outputs": [],
   "source": [
    "s2={1,1,1,1,1,1,2,2,2,2,23,3,3,3,3,34,4,44,4,4,44,5,5555}"
   ]
  },
  {
   "cell_type": "code",
   "execution_count": 57,
   "id": "0caedbb8",
   "metadata": {},
   "outputs": [
    {
     "data": {
      "text/plain": [
       "{1, 2, 3, 4, 5, 23, 34, 44, 5555}"
      ]
     },
     "execution_count": 57,
     "metadata": {},
     "output_type": "execute_result"
    }
   ],
   "source": [
    "s2"
   ]
  },
  {
   "cell_type": "code",
   "execution_count": 58,
   "id": "53666884",
   "metadata": {},
   "outputs": [
    {
     "ename": "TypeError",
     "evalue": "'set' object is not subscriptable",
     "output_type": "error",
     "traceback": [
      "\u001b[1;31m---------------------------------------------------------------------------\u001b[0m",
      "\u001b[1;31mTypeError\u001b[0m                                 Traceback (most recent call last)",
      "\u001b[1;32m~\\AppData\\Local\\Temp\\ipykernel_16416\\2344841457.py\u001b[0m in \u001b[0;36m<module>\u001b[1;34m\u001b[0m\n\u001b[1;32m----> 1\u001b[1;33m \u001b[0ms2\u001b[0m\u001b[1;33m[\u001b[0m\u001b[1;36m0\u001b[0m\u001b[1;33m]\u001b[0m\u001b[1;33m\u001b[0m\u001b[1;33m\u001b[0m\u001b[0m\n\u001b[0m",
      "\u001b[1;31mTypeError\u001b[0m: 'set' object is not subscriptable"
     ]
    }
   ],
   "source": [
    "s2[0]"
   ]
  },
  {
   "cell_type": "code",
   "execution_count": 59,
   "id": "d25e77d2",
   "metadata": {},
   "outputs": [
    {
     "data": {
      "text/plain": [
       "[1, 2, 3, 34, 4, 5, 44, 5555, 23]"
      ]
     },
     "execution_count": 59,
     "metadata": {},
     "output_type": "execute_result"
    }
   ],
   "source": [
    "list(s2)"
   ]
  },
  {
   "cell_type": "code",
   "execution_count": 60,
   "id": "96978de8",
   "metadata": {},
   "outputs": [
    {
     "data": {
      "text/plain": [
       "(1, 2, 3, 34, 4, 5, 44, 5555, 23)"
      ]
     },
     "execution_count": 60,
     "metadata": {},
     "output_type": "execute_result"
    }
   ],
   "source": [
    "tuple(s2)"
   ]
  },
  {
   "cell_type": "code",
   "execution_count": 61,
   "id": "2c47d9f1",
   "metadata": {},
   "outputs": [],
   "source": [
    "s2.add(89.777777777)"
   ]
  },
  {
   "cell_type": "code",
   "execution_count": 62,
   "id": "d9c4758f",
   "metadata": {},
   "outputs": [
    {
     "data": {
      "text/plain": [
       "{1, 2, 3, 4, 5, 23, 34, 44, 89.777777777, 5555}"
      ]
     },
     "execution_count": 62,
     "metadata": {},
     "output_type": "execute_result"
    }
   ],
   "source": [
    "s2"
   ]
  },
  {
   "cell_type": "code",
   "execution_count": 63,
   "id": "52b923b1",
   "metadata": {},
   "outputs": [],
   "source": [
    "s2.add(100)"
   ]
  },
  {
   "cell_type": "code",
   "execution_count": 64,
   "id": "c83ba0e0",
   "metadata": {},
   "outputs": [
    {
     "data": {
      "text/plain": [
       "{1, 2, 3, 4, 5, 23, 34, 44, 89.777777777, 100, 5555}"
      ]
     },
     "execution_count": 64,
     "metadata": {},
     "output_type": "execute_result"
    }
   ],
   "source": [
    "s2"
   ]
  },
  {
   "cell_type": "code",
   "execution_count": null,
   "id": "0539f176",
   "metadata": {},
   "outputs": [],
   "source": []
  },
  {
   "cell_type": "code",
   "execution_count": 65,
   "id": "9440beff",
   "metadata": {},
   "outputs": [],
   "source": [
    "s2.add(1)"
   ]
  },
  {
   "cell_type": "code",
   "execution_count": null,
   "id": "c4b028fb",
   "metadata": {},
   "outputs": [],
   "source": []
  },
  {
   "cell_type": "code",
   "execution_count": 66,
   "id": "ede9d510",
   "metadata": {},
   "outputs": [
    {
     "data": {
      "text/plain": [
       "{1, 2, 3, 4, 5, 23, 34, 44, 89.777777777, 100, 5555}"
      ]
     },
     "execution_count": 66,
     "metadata": {},
     "output_type": "execute_result"
    }
   ],
   "source": [
    "s2"
   ]
  },
  {
   "cell_type": "code",
   "execution_count": null,
   "id": "49e8d0ad",
   "metadata": {},
   "outputs": [],
   "source": []
  },
  {
   "cell_type": "code",
   "execution_count": null,
   "id": "54461239",
   "metadata": {},
   "outputs": [],
   "source": []
  },
  {
   "cell_type": "code",
   "execution_count": null,
   "id": "720da143",
   "metadata": {},
   "outputs": [],
   "source": [
    "s2.add()"
   ]
  }
 ],
 "metadata": {
  "kernelspec": {
   "display_name": "Python 3 (ipykernel)",
   "language": "python",
   "name": "python3"
  },
  "language_info": {
   "codemirror_mode": {
    "name": "ipython",
    "version": 3
   },
   "file_extension": ".py",
   "mimetype": "text/x-python",
   "name": "python",
   "nbconvert_exporter": "python",
   "pygments_lexer": "ipython3",
   "version": "3.9.13"
  }
 },
 "nbformat": 4,
 "nbformat_minor": 5
}
